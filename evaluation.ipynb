{
 "cells": [
  {
   "cell_type": "markdown",
   "metadata": {},
   "source": [
    "# IMPORTS AND CONSTANTS"
   ]
  },
  {
   "cell_type": "code",
   "execution_count": 29,
   "metadata": {
    "ExecuteTime": {
     "end_time": "2019-09-11T22:24:57.937557Z",
     "start_time": "2019-09-11T22:24:57.917671Z"
    },
    "code_folding": [],
    "run_control": {
     "marked": true
    }
   },
   "outputs": [],
   "source": [
    "import pandas as pd\n",
    "import numpy as np\n",
    "from sklearn.preprocessing import MinMaxScaler as Scaler\n",
    "from functools import partial\n",
    "from pycm import ConfusionMatrix\n",
    "\n",
    "dataset_filepath = \"Food-Unique-Products-Classif-2019-07-09.xlsx\"\n",
    "index_header = 'url'\n",
    "non_empty_columns = (\"Coicop5_Suggested\", \"Coicop4_Suggested\", \"Coicop3_Suggested\", \"Coicop2_Suggested\",\n",
    "                     \"Coicop5_Final\", \"Coicop4_Final\", \"Coicop3_Final\", \"Coicop2_Final\")\n",
    "\n",
    "predicted_target_pairs = [('Coicop5_Suggested', 'Coicop5_Final'),\n",
    "                          ('Coicop4_Suggested', 'Coicop4_Final'),\n",
    "                          ('Coicop3_Suggested', 'Coicop3_Final'),\n",
    "                          ('Coicop2_Suggested', 'Coicop2_Final'),\n",
    "                         ]\n",
    "level_weights = {'Coicop2_Final': 0.05,\n",
    "                 'Coicop3_Final': 0.1,\n",
    "                 'Coicop4_Final': 0.5,\n",
    "                 'Coicop5_Final': 0.35}\n"
   ]
  },
  {
   "cell_type": "markdown",
   "metadata": {
    "ExecuteTime": {
     "end_time": "2019-09-11T22:22:02.262383Z",
     "start_time": "2019-09-11T22:22:02.253963Z"
    },
    "code_folding": [],
    "run_control": {
     "marked": false
    }
   },
   "source": [
    "# FUNCTION DEFINITIONS"
   ]
  },
  {
   "cell_type": "code",
   "execution_count": 24,
   "metadata": {
    "ExecuteTime": {
     "end_time": "2019-09-11T22:24:58.802710Z",
     "start_time": "2019-09-11T22:24:58.784925Z"
    },
    "code_folding": [],
    "run_control": {
     "marked": false
    }
   },
   "outputs": [],
   "source": [
    "def clean_empty_cells(df: pd.DataFrame) -> pd.DataFrame:\n",
    "    \"\"\"Replace all empty cells with pd.np.nan\"\"\"\n",
    "    return df.applymap(lambda x: pd.np.nan if isinstance(x, str)\n",
    "                       and x.lower().strip() in ['nan', ''] else x)\n",
    "\n",
    "def drop_duplicate_rows(df: pd.DataFrame, index) -> pd.DataFrame:\n",
    "    \"\"\"Drop duplicate rows by index\"\"\"\n",
    "    return df.drop_duplicates(subset=index)\n",
    "\n",
    "def drop_empty_rows(df: pd.DataFrame,\n",
    "                  required_rows: tuple=()) -> pd.DataFrame:\n",
    "    \"\"\"Remove row without the required data points\"\"\" \n",
    "    df = df.dropna(subset=non_empty_columns, how='any')\n",
    "    return df\n",
    "\n",
    "def calc_score_for_level(confusion_matrix: ConfusionMatrix,\n",
    "                         balance: bool) -> float:\n",
    "    \"\"\"Unified metric for a single level multiclass classifier\n",
    "    \n",
    "    :param balance: If True, f1 score is normalized by class frequency\n",
    "    \"\"\"\n",
    "    n_classes = confusion_matrix.classes.__len__()\n",
    "    scores = []\n",
    "    if not balance:\n",
    "        score = confusion_matrix.F1_Macro\n",
    "    else:\n",
    "        for cls in confusion_matrix.classes:\n",
    "            population = confusion_matrix.POP[cls]\n",
    "            score = confusion_matrix.F1[cls]\n",
    "            if balance:\n",
    "                cls_count = confusion_matrix.P[cls]\n",
    "                if cls_count == 0:\n",
    "                    score = 0.\n",
    "                else:\n",
    "                    balance_ratio = population / (n_classes * cls_count)\n",
    "                    score *= balance_ratio\n",
    "            scores.append(score)\n",
    "        scores = np.expand_dims(np.array(scores), 1)\n",
    "        scores = Scaler().fit_transform(scores)\n",
    "        score = scores.ravel().mean()\n",
    "    return score"
   ]
  },
  {
   "cell_type": "markdown",
   "metadata": {
    "ExecuteTime": {
     "end_time": "2019-09-11T22:22:15.157294Z",
     "start_time": "2019-09-11T22:22:05.024953Z"
    },
    "code_folding": []
   },
   "source": [
    "# READ THE DATASET"
   ]
  },
  {
   "cell_type": "code",
   "execution_count": 25,
   "metadata": {
    "ExecuteTime": {
     "end_time": "2019-09-11T22:25:10.280352Z",
     "start_time": "2019-09-11T22:24:59.745167Z"
    },
    "code_folding": []
   },
   "outputs": [
    {
     "data": {
      "text/html": [
       "<div>\n",
       "<style scoped>\n",
       "    .dataframe tbody tr th:only-of-type {\n",
       "        vertical-align: middle;\n",
       "    }\n",
       "\n",
       "    .dataframe tbody tr th {\n",
       "        vertical-align: top;\n",
       "    }\n",
       "\n",
       "    .dataframe thead th {\n",
       "        text-align: right;\n",
       "    }\n",
       "</style>\n",
       "<table border=\"1\" class=\"dataframe\">\n",
       "  <thead>\n",
       "    <tr style=\"text-align: right;\">\n",
       "      <th></th>\n",
       "      <th>category</th>\n",
       "      <th>url</th>\n",
       "      <th>product_name</th>\n",
       "      <th>product_description</th>\n",
       "      <th>product_id_store</th>\n",
       "      <th>product_id</th>\n",
       "      <th>volume</th>\n",
       "      <th>qty</th>\n",
       "      <th>unit</th>\n",
       "      <th>price</th>\n",
       "      <th>...</th>\n",
       "      <th>Coicop5_Suggested</th>\n",
       "      <th>Coicop4_Suggested</th>\n",
       "      <th>Coicop3_Suggested</th>\n",
       "      <th>Coicop2_Suggested</th>\n",
       "      <th>Coicop5_Final</th>\n",
       "      <th>Coicop4_Final</th>\n",
       "      <th>Coicop3_Final</th>\n",
       "      <th>Coicop2_Final</th>\n",
       "      <th>Controversial_Classification</th>\n",
       "      <th>Sample_Indicator</th>\n",
       "    </tr>\n",
       "  </thead>\n",
       "  <tbody>\n",
       "    <tr>\n",
       "      <th>0</th>\n",
       "      <td>Wein, Spirituosen &amp; Tabak Spirituosen &amp; -misch...</td>\n",
       "      <td>https://shop.rewe.de/p/siderit-gingerlime-lond...</td>\n",
       "      <td>Siderit Gingerlime London Dry Gin 700ml</td>\n",
       "      <td>Siderit Gingerlime ist ein Citric Gin, der in ...</td>\n",
       "      <td>p/siderit-gingerlime-london-dry-gin-700ml/SIAE...</td>\n",
       "      <td>cf166b3dc4aef0f0ea0226566017b8a3</td>\n",
       "      <td>0,7 L (1 L = 68,77 €)</td>\n",
       "      <td>0,7</td>\n",
       "      <td>liter</td>\n",
       "      <td>48.14</td>\n",
       "      <td>...</td>\n",
       "      <td>02111</td>\n",
       "      <td>0211</td>\n",
       "      <td>021</td>\n",
       "      <td>02</td>\n",
       "      <td>02111</td>\n",
       "      <td>0211</td>\n",
       "      <td>021</td>\n",
       "      <td>02</td>\n",
       "      <td>NaN</td>\n",
       "      <td>1</td>\n",
       "    </tr>\n",
       "    <tr>\n",
       "      <th>1</th>\n",
       "      <td>Wein, Spirituosen &amp; Tabak Wein Rotwein Frankreich</td>\n",
       "      <td>https://shop.rewe.de/p/ch-teau-haut-terre-fort...</td>\n",
       "      <td>Château Haut Terre Fort rouge Bordeaux trocken...</td>\n",
       "      <td>Weinfreunde.de empfiehlt: Château Haut-Terre-F...</td>\n",
       "      <td>p/ch-teau-haut-terre-fort-rouge-bordeaux-trock...</td>\n",
       "      <td>cb30ae128226bcd945cef02927fd558a</td>\n",
       "      <td>0,75l (1 l = 8,67 €)</td>\n",
       "      <td>0,75</td>\n",
       "      <td>liter</td>\n",
       "      <td>6.5</td>\n",
       "      <td>...</td>\n",
       "      <td>02121</td>\n",
       "      <td>0212</td>\n",
       "      <td>021</td>\n",
       "      <td>02</td>\n",
       "      <td>02121</td>\n",
       "      <td>0212</td>\n",
       "      <td>021</td>\n",
       "      <td>02</td>\n",
       "      <td>NaN</td>\n",
       "      <td>1</td>\n",
       "    </tr>\n",
       "  </tbody>\n",
       "</table>\n",
       "<p>2 rows × 32 columns</p>\n",
       "</div>"
      ],
      "text/plain": [
       "                                            category  \\\n",
       "0  Wein, Spirituosen & Tabak Spirituosen & -misch...   \n",
       "1  Wein, Spirituosen & Tabak Wein Rotwein Frankreich   \n",
       "\n",
       "                                                 url  \\\n",
       "0  https://shop.rewe.de/p/siderit-gingerlime-lond...   \n",
       "1  https://shop.rewe.de/p/ch-teau-haut-terre-fort...   \n",
       "\n",
       "                                        product_name  \\\n",
       "0            Siderit Gingerlime London Dry Gin 700ml   \n",
       "1  Château Haut Terre Fort rouge Bordeaux trocken...   \n",
       "\n",
       "                                 product_description  \\\n",
       "0  Siderit Gingerlime ist ein Citric Gin, der in ...   \n",
       "1  Weinfreunde.de empfiehlt: Château Haut-Terre-F...   \n",
       "\n",
       "                                    product_id_store  \\\n",
       "0  p/siderit-gingerlime-london-dry-gin-700ml/SIAE...   \n",
       "1  p/ch-teau-haut-terre-fort-rouge-bordeaux-trock...   \n",
       "\n",
       "                         product_id                 volume   qty   unit  \\\n",
       "0  cf166b3dc4aef0f0ea0226566017b8a3  0,7 L (1 L = 68,77 €)  0,7   liter   \n",
       "1  cb30ae128226bcd945cef02927fd558a   0,75l (1 l = 8,67 €)  0,75  liter   \n",
       "\n",
       "   price  ... Coicop5_Suggested Coicop4_Suggested Coicop3_Suggested  \\\n",
       "0  48.14  ...             02111              0211               021   \n",
       "1    6.5  ...             02121              0212               021   \n",
       "\n",
       "  Coicop2_Suggested Coicop5_Final Coicop4_Final Coicop3_Final Coicop2_Final  \\\n",
       "0                02         02111          0211           021            02   \n",
       "1                02         02121          0212           021            02   \n",
       "\n",
       "  Controversial_Classification Sample_Indicator  \n",
       "0                          NaN                1  \n",
       "1                          NaN                1  \n",
       "\n",
       "[2 rows x 32 columns]"
      ]
     },
     "execution_count": 25,
     "metadata": {},
     "output_type": "execute_result"
    }
   ],
   "source": [
    "dataset_cleaned_up = False\n",
    "df = pd.read_excel(dataset_filepath, dtype=str)\n",
    "df.head(2)"
   ]
  },
  {
   "cell_type": "markdown",
   "metadata": {
    "ExecuteTime": {
     "end_time": "2019-09-11T22:22:16.344528Z",
     "start_time": "2019-09-11T22:22:15.787379Z"
    }
   },
   "source": [
    "# CLEANUP DATASET"
   ]
  },
  {
   "cell_type": "code",
   "execution_count": 26,
   "metadata": {
    "ExecuteTime": {
     "end_time": "2019-09-11T22:25:10.979956Z",
     "start_time": "2019-09-11T22:25:10.369248Z"
    }
   },
   "outputs": [],
   "source": [
    "if not dataset_cleaned_up:\n",
    "    cleanup_pipeline = [clean_empty_cells,\n",
    "                        partial(drop_duplicate_rows, index=index_header),\n",
    "                        partial(drop_empty_rows, required_rows=non_empty_columns)]\n",
    "    for op in cleanup_pipeline:\n",
    "        df = op(df)\n",
    "    dataset_cleaned_up = True"
   ]
  },
  {
   "cell_type": "markdown",
   "metadata": {
    "ExecuteTime": {
     "end_time": "2019-09-11T22:22:16.936386Z",
     "start_time": "2019-09-11T22:22:16.867237Z"
    }
   },
   "source": [
    "# COLLECT PERFORMANCE STATS"
   ]
  },
  {
   "cell_type": "code",
   "execution_count": 27,
   "metadata": {
    "ExecuteTime": {
     "end_time": "2019-09-11T22:25:11.140239Z",
     "start_time": "2019-09-11T22:25:11.058527Z"
    }
   },
   "outputs": [],
   "source": [
    "confusion_matrices = {actual: ConfusionMatrix(actual_vector=df[actual].values,\n",
    "                                              predict_vector=df[predicted].values)\n",
    "                      for predicted, actual in predicted_target_pairs}"
   ]
  },
  {
   "cell_type": "markdown",
   "metadata": {
    "ExecuteTime": {
     "end_time": "2019-09-11T22:22:17.451713Z",
     "start_time": "2019-09-11T22:22:17.448570Z"
    }
   },
   "source": [
    "# CALCULATE SCORES"
   ]
  },
  {
   "cell_type": "code",
   "execution_count": 30,
   "metadata": {
    "ExecuteTime": {
     "end_time": "2019-09-11T22:25:11.291609Z",
     "start_time": "2019-09-11T22:25:11.215742Z"
    }
   },
   "outputs": [
    {
     "name": "stdout",
     "output_type": "stream",
     "text": [
      "The final score is 0.25057409359275545\n"
     ]
    }
   ],
   "source": [
    "score_levels = {level: calc_score_for_level(cm, balance=True) for  level, cm in confusion_matrices.items()}\n",
    "final_score = sum([level_weights[level] * value for level, value in score_levels.items()])\n",
    "print(\"The final score is {final_score}\".format(final_score=final_score))"
   ]
  },
  {
   "cell_type": "code",
   "execution_count": null,
   "metadata": {},
   "outputs": [],
   "source": []
  }
 ],
 "metadata": {
  "kernelspec": {
   "display_name": "Python 3",
   "language": "python",
   "name": "python3"
  },
  "language_info": {
   "codemirror_mode": {
    "name": "ipython",
    "version": 3
   },
   "file_extension": ".py",
   "mimetype": "text/x-python",
   "name": "python",
   "nbconvert_exporter": "python",
   "pygments_lexer": "ipython3",
   "version": "3.5.3"
  },
  "nbTranslate": {
   "displayLangs": [
    "*"
   ],
   "hotkey": "alt-t",
   "langInMainMenu": true,
   "sourceLang": "en",
   "targetLang": "fr",
   "useGoogleTranslate": true
  },
  "toc": {
   "base_numbering": 1,
   "nav_menu": {},
   "number_sections": true,
   "sideBar": true,
   "skip_h1_title": false,
   "title_cell": "Table of Contents",
   "title_sidebar": "Contents",
   "toc_cell": false,
   "toc_position": {},
   "toc_section_display": true,
   "toc_window_display": false
  },
  "varInspector": {
   "cols": {
    "lenName": 16,
    "lenType": 16,
    "lenVar": 40
   },
   "kernels_config": {
    "python": {
     "delete_cmd_postfix": "",
     "delete_cmd_prefix": "del ",
     "library": "var_list.py",
     "varRefreshCmd": "print(var_dic_list())"
    },
    "r": {
     "delete_cmd_postfix": ") ",
     "delete_cmd_prefix": "rm(",
     "library": "var_list.r",
     "varRefreshCmd": "cat(var_dic_list()) "
    }
   },
   "types_to_exclude": [
    "module",
    "function",
    "builtin_function_or_method",
    "instance",
    "_Feature"
   ],
   "window_display": false
  }
 },
 "nbformat": 4,
 "nbformat_minor": 4
}
