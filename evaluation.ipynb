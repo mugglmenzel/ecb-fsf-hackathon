{
 "cells": [
  {
   "cell_type": "markdown",
   "metadata": {},
   "source": [
    "# IMPORTS AND CONSTANTS"
   ]
  },
  {
   "cell_type": "code",
   "execution_count": 8,
   "metadata": {
    "ExecuteTime": {
     "end_time": "2019-09-11T22:24:57.937557Z",
     "start_time": "2019-09-11T22:24:57.917671Z"
    },
    "code_folding": [],
    "run_control": {
     "marked": true
    }
   },
   "outputs": [],
   "source": [
    "import pandas as pd\n",
    "import numpy as np\n",
    "from sklearn.preprocessing import MinMaxScaler as Scaler\n",
    "from functools import partial\n",
    "from pycm import ConfusionMatrix\n",
    "\n",
    "dataset_filepath = \"parti.csv\"\n",
    "index_header = 'url'\n",
    "non_empty_columns = (\"Predicted_COICOP_5_Category\", \"Predicted_COICOP_4_Category\", \"Predicted_COICOP_3_Category\", \"Predicted_COICOP_2_Category\",\n",
    "                     \"Coicop5_Final\", \"Coicop4_Final\", \"Coicop3_Final\", \"Coicop2_Final\")\n",
    "\n",
    "predicted_target_pairs = [('Predicted_COICOP_5_Category', 'Coicop5_Final'),\n",
    "                          ('Predicted_COICOP_4_Category', 'Coicop4_Final'),\n",
    "                          ('Predicted_COICOP_3_Category', 'Coicop3_Final'),\n",
    "                          ('Predicted_COICOP_2_Category', 'Coicop2_Final'),\n",
    "                         ]\n",
    "level_weights = {'Coicop2_Final': 0.05,\n",
    "                 'Coicop3_Final': 0.15,\n",
    "                 'Coicop4_Final': 0.4,\n",
    "                 'Coicop5_Final': 0.4}\n"
   ]
  },
  {
   "cell_type": "markdown",
   "metadata": {
    "ExecuteTime": {
     "end_time": "2019-09-11T22:22:02.262383Z",
     "start_time": "2019-09-11T22:22:02.253963Z"
    },
    "code_folding": [],
    "run_control": {
     "marked": false
    }
   },
   "source": [
    "# FUNCTION DEFINITIONS"
   ]
  },
  {
   "cell_type": "code",
   "execution_count": 9,
   "metadata": {
    "ExecuteTime": {
     "end_time": "2019-09-11T22:24:58.802710Z",
     "start_time": "2019-09-11T22:24:58.784925Z"
    },
    "code_folding": [],
    "run_control": {
     "marked": false
    }
   },
   "outputs": [],
   "source": [
    "def clean_empty_cells(df: pd.DataFrame) -> pd.DataFrame:\n",
    "    \"\"\"Replace all empty cells with pd.np.nan\"\"\"\n",
    "    return df.applymap(lambda x: pd.np.nan if isinstance(x, str)\n",
    "                       and x.lower().strip() in ['nan', ''] else x)\n",
    "\n",
    "def drop_duplicate_rows(df: pd.DataFrame, index) -> pd.DataFrame:\n",
    "    \"\"\"Drop duplicate rows by index\"\"\"\n",
    "    return df.drop_duplicates(subset=index)\n",
    "\n",
    "def drop_empty_rows(df: pd.DataFrame,\n",
    "                  required_rows: tuple=()) -> pd.DataFrame:\n",
    "    \"\"\"Remove row without the required data points\"\"\" \n",
    "    df = df.dropna(subset=non_empty_columns, how='any')\n",
    "    return df\n",
    "\n",
    "def calc_score_for_level(confusion_matrix: ConfusionMatrix,\n",
    "                         balance: bool) -> float:\n",
    "    \"\"\"Unified metric for a single level multiclass classifier\n",
    "    \n",
    "    :param balance: If True, f1 score is normalized by class frequency\n",
    "    \"\"\"\n",
    "    n_classes = confusion_matrix.classes.__len__()\n",
    "    scores = []\n",
    "    if not balance:\n",
    "        score = confusion_matrix.F1_Macro\n",
    "    else:\n",
    "        ratios = []\n",
    "        for cls in confusion_matrix.classes:\n",
    "            population = confusion_matrix.POP[cls]\n",
    "            score = confusion_matrix.F1[cls]\n",
    "            if balance:\n",
    "                cls_count = confusion_matrix.P[cls]\n",
    "                if cls_count == 0:\n",
    "                    score = 0\n",
    "                    balance_ratio = 0\n",
    "                    ratios.append(balance_ratio)\n",
    "                else:\n",
    "                    balance_ratio = population / (n_classes * cls_count)\n",
    "                    ratios.append(balance_ratio)\n",
    "#                     score *= balance_ratio\n",
    "            scores.append(score)\n",
    "        ratios = [i/sum(ratios) for i in ratios]\n",
    "        print(ratios)\n",
    "        scores = [i*j for i, j in zip(scores, ratios)]\n",
    "#         scores = np.expand_dims(np.array(scores), 1)\n",
    "#         scores = Scaler().fit_transform(scores)\n",
    "#         score = scores.ravel().mean()\n",
    "        score = sum(scores)\n",
    "    return score"
   ]
  },
  {
   "cell_type": "markdown",
   "metadata": {
    "ExecuteTime": {
     "end_time": "2019-09-11T22:22:15.157294Z",
     "start_time": "2019-09-11T22:22:05.024953Z"
    },
    "code_folding": []
   },
   "source": [
    "# READ THE DATASET"
   ]
  },
  {
   "cell_type": "code",
   "execution_count": 10,
   "metadata": {
    "ExecuteTime": {
     "end_time": "2019-09-11T22:25:10.280352Z",
     "start_time": "2019-09-11T22:24:59.745167Z"
    },
    "code_folding": []
   },
   "outputs": [
    {
     "data": {
      "text/html": [
       "<div>\n",
       "<style scoped>\n",
       "    .dataframe tbody tr th:only-of-type {\n",
       "        vertical-align: middle;\n",
       "    }\n",
       "\n",
       "    .dataframe tbody tr th {\n",
       "        vertical-align: top;\n",
       "    }\n",
       "\n",
       "    .dataframe thead th {\n",
       "        text-align: right;\n",
       "    }\n",
       "</style>\n",
       "<table border=\"1\" class=\"dataframe\">\n",
       "  <thead>\n",
       "    <tr style=\"text-align: right;\">\n",
       "      <th></th>\n",
       "      <th>Unnamed: 0</th>\n",
       "      <th>category</th>\n",
       "      <th>url</th>\n",
       "      <th>product_name</th>\n",
       "      <th>product_description</th>\n",
       "      <th>product_id_store</th>\n",
       "      <th>product_id</th>\n",
       "      <th>volume</th>\n",
       "      <th>qty</th>\n",
       "      <th>unit</th>\n",
       "      <th>...</th>\n",
       "      <th>reduction</th>\n",
       "      <th>product</th>\n",
       "      <th>Coicop5_Final</th>\n",
       "      <th>Coicop4_Final</th>\n",
       "      <th>Coicop3_Final</th>\n",
       "      <th>Coicop2_Final</th>\n",
       "      <th>Predicted_COICOP_5_Category</th>\n",
       "      <th>Predicted_COICOP_4_Category</th>\n",
       "      <th>Predicted_COICOP_3_Category</th>\n",
       "      <th>Predicted_COICOP_2_Category</th>\n",
       "    </tr>\n",
       "  </thead>\n",
       "  <tbody>\n",
       "    <tr>\n",
       "      <th>0</th>\n",
       "      <td>12785</td>\n",
       "      <td>Nahrungsmittel Cerealien &amp; Müsli Frucht- &amp; Müs...</td>\n",
       "      <td>https://shop.rewe.de/p/viba-fruchtschnitte-ban...</td>\n",
       "      <td>Viba Fruchtschnitte Banane Apfel 35g</td>\n",
       "      <td>NaN</td>\n",
       "      <td>p/viba-fruchtschnitte-banane-apfel-35g/2369187</td>\n",
       "      <td>5f1e62d5db71d23762ef220207d002cd</td>\n",
       "      <td>35g (100 g = 2,54 €)</td>\n",
       "      <td>35</td>\n",
       "      <td>gram</td>\n",
       "      <td>...</td>\n",
       "      <td>FALSE</td>\n",
       "      <td>https://shop.rewe.de/p/viba-fruchtschnitte-ban...</td>\n",
       "      <td>01117</td>\n",
       "      <td>0111</td>\n",
       "      <td>011</td>\n",
       "      <td>01</td>\n",
       "      <td>01117</td>\n",
       "      <td>0111</td>\n",
       "      <td>011</td>\n",
       "      <td>01</td>\n",
       "    </tr>\n",
       "    <tr>\n",
       "      <th>1</th>\n",
       "      <td>990</td>\n",
       "      <td>Wein, Spirituosen &amp; Tabak Wein Rotwein Italien</td>\n",
       "      <td>https://shop.rewe.de/p/salice-salentino-riserv...</td>\n",
       "      <td>Salice Salentino Riserva Fiamme Nere 0,75l</td>\n",
       "      <td>- Duft nach Dörrpflaume, Waldbeere und Gewürzk...</td>\n",
       "      <td>p/salice-salentino-riserva-fiamme-nere-0-75l/5...</td>\n",
       "      <td>dceed3ba54fd55a69c63104661073c73</td>\n",
       "      <td>0,75l (1 l = 7,72 €)</td>\n",
       "      <td>0,75</td>\n",
       "      <td>liter</td>\n",
       "      <td>...</td>\n",
       "      <td>FALSE</td>\n",
       "      <td>https://shop.rewe.de/p/salice-salentino-riserv...</td>\n",
       "      <td>02121</td>\n",
       "      <td>0212</td>\n",
       "      <td>021</td>\n",
       "      <td>02</td>\n",
       "      <td>02121</td>\n",
       "      <td>0212</td>\n",
       "      <td>021</td>\n",
       "      <td>02</td>\n",
       "    </tr>\n",
       "  </tbody>\n",
       "</table>\n",
       "<p>2 rows × 23 columns</p>\n",
       "</div>"
      ],
      "text/plain": [
       "  Unnamed: 0                                           category  \\\n",
       "0      12785  Nahrungsmittel Cerealien & Müsli Frucht- & Müs...   \n",
       "1        990     Wein, Spirituosen & Tabak Wein Rotwein Italien   \n",
       "\n",
       "                                                 url  \\\n",
       "0  https://shop.rewe.de/p/viba-fruchtschnitte-ban...   \n",
       "1  https://shop.rewe.de/p/salice-salentino-riserv...   \n",
       "\n",
       "                                 product_name  \\\n",
       "0        Viba Fruchtschnitte Banane Apfel 35g   \n",
       "1  Salice Salentino Riserva Fiamme Nere 0,75l   \n",
       "\n",
       "                                 product_description  \\\n",
       "0                                                NaN   \n",
       "1  - Duft nach Dörrpflaume, Waldbeere und Gewürzk...   \n",
       "\n",
       "                                    product_id_store  \\\n",
       "0     p/viba-fruchtschnitte-banane-apfel-35g/2369187   \n",
       "1  p/salice-salentino-riserva-fiamme-nere-0-75l/5...   \n",
       "\n",
       "                         product_id                volume   qty   unit  ...  \\\n",
       "0  5f1e62d5db71d23762ef220207d002cd  35g (100 g = 2,54 €)    35   gram  ...   \n",
       "1  dceed3ba54fd55a69c63104661073c73  0,75l (1 l = 7,72 €)  0,75  liter  ...   \n",
       "\n",
       "  reduction                                            product Coicop5_Final  \\\n",
       "0     FALSE  https://shop.rewe.de/p/viba-fruchtschnitte-ban...         01117   \n",
       "1     FALSE  https://shop.rewe.de/p/salice-salentino-riserv...         02121   \n",
       "\n",
       "  Coicop4_Final Coicop3_Final Coicop2_Final Predicted_COICOP_5_Category  \\\n",
       "0          0111           011            01                       01117   \n",
       "1          0212           021            02                       02121   \n",
       "\n",
       "  Predicted_COICOP_4_Category Predicted_COICOP_3_Category  \\\n",
       "0                        0111                         011   \n",
       "1                        0212                         021   \n",
       "\n",
       "  Predicted_COICOP_2_Category  \n",
       "0                          01  \n",
       "1                          02  \n",
       "\n",
       "[2 rows x 23 columns]"
      ]
     },
     "execution_count": 10,
     "metadata": {},
     "output_type": "execute_result"
    }
   ],
   "source": [
    "dataset_cleaned_up = False\n",
    "df = pd.read_csv(dataset_filepath, dtype=str)\n",
    "df.head(2)"
   ]
  },
  {
   "cell_type": "markdown",
   "metadata": {
    "ExecuteTime": {
     "end_time": "2019-09-11T22:22:16.344528Z",
     "start_time": "2019-09-11T22:22:15.787379Z"
    }
   },
   "source": [
    "# CLEANUP DATASET"
   ]
  },
  {
   "cell_type": "code",
   "execution_count": 11,
   "metadata": {
    "ExecuteTime": {
     "end_time": "2019-09-11T22:25:10.979956Z",
     "start_time": "2019-09-11T22:25:10.369248Z"
    }
   },
   "outputs": [],
   "source": [
    "if not dataset_cleaned_up:\n",
    "    cleanup_pipeline = [clean_empty_cells,\n",
    "                        partial(drop_duplicate_rows, index=index_header),\n",
    "                        partial(drop_empty_rows, required_rows=non_empty_columns)]\n",
    "    for op in cleanup_pipeline:\n",
    "        df = op(df)\n",
    "    dataset_cleaned_up = True"
   ]
  },
  {
   "cell_type": "code",
   "execution_count": 12,
   "metadata": {},
   "outputs": [
    {
     "data": {
      "text/html": [
       "<div>\n",
       "<style scoped>\n",
       "    .dataframe tbody tr th:only-of-type {\n",
       "        vertical-align: middle;\n",
       "    }\n",
       "\n",
       "    .dataframe tbody tr th {\n",
       "        vertical-align: top;\n",
       "    }\n",
       "\n",
       "    .dataframe thead th {\n",
       "        text-align: right;\n",
       "    }\n",
       "</style>\n",
       "<table border=\"1\" class=\"dataframe\">\n",
       "  <thead>\n",
       "    <tr style=\"text-align: right;\">\n",
       "      <th></th>\n",
       "      <th>Unnamed: 0</th>\n",
       "      <th>category</th>\n",
       "      <th>url</th>\n",
       "      <th>product_name</th>\n",
       "      <th>product_description</th>\n",
       "      <th>product_id_store</th>\n",
       "      <th>product_id</th>\n",
       "      <th>volume</th>\n",
       "      <th>qty</th>\n",
       "      <th>unit</th>\n",
       "      <th>...</th>\n",
       "      <th>reduction</th>\n",
       "      <th>product</th>\n",
       "      <th>Coicop5_Final</th>\n",
       "      <th>Coicop4_Final</th>\n",
       "      <th>Coicop3_Final</th>\n",
       "      <th>Coicop2_Final</th>\n",
       "      <th>Predicted_COICOP_5_Category</th>\n",
       "      <th>Predicted_COICOP_4_Category</th>\n",
       "      <th>Predicted_COICOP_3_Category</th>\n",
       "      <th>Predicted_COICOP_2_Category</th>\n",
       "    </tr>\n",
       "  </thead>\n",
       "  <tbody>\n",
       "    <tr>\n",
       "      <th>0</th>\n",
       "      <td>12785</td>\n",
       "      <td>Nahrungsmittel Cerealien &amp; Müsli Frucht- &amp; Müs...</td>\n",
       "      <td>https://shop.rewe.de/p/viba-fruchtschnitte-ban...</td>\n",
       "      <td>Viba Fruchtschnitte Banane Apfel 35g</td>\n",
       "      <td>NaN</td>\n",
       "      <td>p/viba-fruchtschnitte-banane-apfel-35g/2369187</td>\n",
       "      <td>5f1e62d5db71d23762ef220207d002cd</td>\n",
       "      <td>35g (100 g = 2,54 €)</td>\n",
       "      <td>35</td>\n",
       "      <td>gram</td>\n",
       "      <td>...</td>\n",
       "      <td>FALSE</td>\n",
       "      <td>https://shop.rewe.de/p/viba-fruchtschnitte-ban...</td>\n",
       "      <td>01117</td>\n",
       "      <td>0111</td>\n",
       "      <td>011</td>\n",
       "      <td>01</td>\n",
       "      <td>01117</td>\n",
       "      <td>0111</td>\n",
       "      <td>011</td>\n",
       "      <td>01</td>\n",
       "    </tr>\n",
       "    <tr>\n",
       "      <th>1</th>\n",
       "      <td>990</td>\n",
       "      <td>Wein, Spirituosen &amp; Tabak Wein Rotwein Italien</td>\n",
       "      <td>https://shop.rewe.de/p/salice-salentino-riserv...</td>\n",
       "      <td>Salice Salentino Riserva Fiamme Nere 0,75l</td>\n",
       "      <td>- Duft nach Dörrpflaume, Waldbeere und Gewürzk...</td>\n",
       "      <td>p/salice-salentino-riserva-fiamme-nere-0-75l/5...</td>\n",
       "      <td>dceed3ba54fd55a69c63104661073c73</td>\n",
       "      <td>0,75l (1 l = 7,72 €)</td>\n",
       "      <td>0,75</td>\n",
       "      <td>liter</td>\n",
       "      <td>...</td>\n",
       "      <td>FALSE</td>\n",
       "      <td>https://shop.rewe.de/p/salice-salentino-riserv...</td>\n",
       "      <td>02121</td>\n",
       "      <td>0212</td>\n",
       "      <td>021</td>\n",
       "      <td>02</td>\n",
       "      <td>02121</td>\n",
       "      <td>0212</td>\n",
       "      <td>021</td>\n",
       "      <td>02</td>\n",
       "    </tr>\n",
       "    <tr>\n",
       "      <th>2</th>\n",
       "      <td>7446</td>\n",
       "      <td>Obst &amp; Gemüse Gemüse Hülsenfrüchte</td>\n",
       "      <td>https://shop.rewe.de/p/kaiserschoten-200g-scha...</td>\n",
       "      <td>Kaiserschoten 200g Schale</td>\n",
       "      <td>Simbabwe, Kenia, Ägypten, Guatemala, Peru,Tans...</td>\n",
       "      <td>p/kaiserschoten-200g-schale/140419</td>\n",
       "      <td>faee20a1c6712c84d01505bf2b1fe0d4</td>\n",
       "      <td>200g (100 g = 1,15 €)</td>\n",
       "      <td>200</td>\n",
       "      <td>gram</td>\n",
       "      <td>...</td>\n",
       "      <td>FALSE</td>\n",
       "      <td>https://shop.rewe.de/p/kaiserschoten-200g-scha...</td>\n",
       "      <td>01171</td>\n",
       "      <td>0117</td>\n",
       "      <td>011</td>\n",
       "      <td>01</td>\n",
       "      <td>01171</td>\n",
       "      <td>0117</td>\n",
       "      <td>011</td>\n",
       "      <td>01</td>\n",
       "    </tr>\n",
       "    <tr>\n",
       "      <th>3</th>\n",
       "      <td>18631</td>\n",
       "      <td>Nahrungsmittel Brot &amp; Backwaren Brotwaren Schn...</td>\n",
       "      <td>https://shop.rewe.de/p/rewe-bio-karotten-walnu...</td>\n",
       "      <td>REWE Bio Karotten Walnuss Brot 500g</td>\n",
       "      <td>NaN</td>\n",
       "      <td>p/rewe-bio-karotten-walnuss-brot-500g/883838</td>\n",
       "      <td>931b38b6833c084c898fd9455d45e0e3</td>\n",
       "      <td>500g (1 kg = 4,58 €)</td>\n",
       "      <td>500</td>\n",
       "      <td>gram</td>\n",
       "      <td>...</td>\n",
       "      <td>FALSE</td>\n",
       "      <td>https://shop.rewe.de/p/rewe-bio-karotten-walnu...</td>\n",
       "      <td>01113</td>\n",
       "      <td>0111</td>\n",
       "      <td>011</td>\n",
       "      <td>01</td>\n",
       "      <td>01113</td>\n",
       "      <td>0111</td>\n",
       "      <td>011</td>\n",
       "      <td>01</td>\n",
       "    </tr>\n",
       "    <tr>\n",
       "      <th>4</th>\n",
       "      <td>1391</td>\n",
       "      <td>Wein, Spirituosen &amp; Tabak Tabak &amp; Zigaretten Z...</td>\n",
       "      <td>https://shop.rewe.de/p/l-m-blue-label-xxl-28-s...</td>\n",
       "      <td>L&amp;M Blue Label XXL 28 Stück</td>\n",
       "      <td>NaN</td>\n",
       "      <td>p/l-m-blue-label-xxl-28-stueck/7266830</td>\n",
       "      <td>4de29bdc7f42991b6547c777d437c304</td>\n",
       "      <td>28 Stück</td>\n",
       "      <td>28</td>\n",
       "      <td>NaN</td>\n",
       "      <td>...</td>\n",
       "      <td>FALSE</td>\n",
       "      <td>https://shop.rewe.de/p/l-m-blue-label-xxl-28-s...</td>\n",
       "      <td>02201</td>\n",
       "      <td>0220</td>\n",
       "      <td>022</td>\n",
       "      <td>02</td>\n",
       "      <td>02201</td>\n",
       "      <td>0220</td>\n",
       "      <td>022</td>\n",
       "      <td>02</td>\n",
       "    </tr>\n",
       "  </tbody>\n",
       "</table>\n",
       "<p>5 rows × 23 columns</p>\n",
       "</div>"
      ],
      "text/plain": [
       "  Unnamed: 0                                           category  \\\n",
       "0      12785  Nahrungsmittel Cerealien & Müsli Frucht- & Müs...   \n",
       "1        990     Wein, Spirituosen & Tabak Wein Rotwein Italien   \n",
       "2       7446                 Obst & Gemüse Gemüse Hülsenfrüchte   \n",
       "3      18631  Nahrungsmittel Brot & Backwaren Brotwaren Schn...   \n",
       "4       1391  Wein, Spirituosen & Tabak Tabak & Zigaretten Z...   \n",
       "\n",
       "                                                 url  \\\n",
       "0  https://shop.rewe.de/p/viba-fruchtschnitte-ban...   \n",
       "1  https://shop.rewe.de/p/salice-salentino-riserv...   \n",
       "2  https://shop.rewe.de/p/kaiserschoten-200g-scha...   \n",
       "3  https://shop.rewe.de/p/rewe-bio-karotten-walnu...   \n",
       "4  https://shop.rewe.de/p/l-m-blue-label-xxl-28-s...   \n",
       "\n",
       "                                 product_name  \\\n",
       "0        Viba Fruchtschnitte Banane Apfel 35g   \n",
       "1  Salice Salentino Riserva Fiamme Nere 0,75l   \n",
       "2                   Kaiserschoten 200g Schale   \n",
       "3         REWE Bio Karotten Walnuss Brot 500g   \n",
       "4                 L&M Blue Label XXL 28 Stück   \n",
       "\n",
       "                                 product_description  \\\n",
       "0                                                NaN   \n",
       "1  - Duft nach Dörrpflaume, Waldbeere und Gewürzk...   \n",
       "2  Simbabwe, Kenia, Ägypten, Guatemala, Peru,Tans...   \n",
       "3                                                NaN   \n",
       "4                                                NaN   \n",
       "\n",
       "                                    product_id_store  \\\n",
       "0     p/viba-fruchtschnitte-banane-apfel-35g/2369187   \n",
       "1  p/salice-salentino-riserva-fiamme-nere-0-75l/5...   \n",
       "2                 p/kaiserschoten-200g-schale/140419   \n",
       "3       p/rewe-bio-karotten-walnuss-brot-500g/883838   \n",
       "4             p/l-m-blue-label-xxl-28-stueck/7266830   \n",
       "\n",
       "                         product_id                 volume   qty   unit  ...  \\\n",
       "0  5f1e62d5db71d23762ef220207d002cd   35g (100 g = 2,54 €)    35   gram  ...   \n",
       "1  dceed3ba54fd55a69c63104661073c73   0,75l (1 l = 7,72 €)  0,75  liter  ...   \n",
       "2  faee20a1c6712c84d01505bf2b1fe0d4  200g (100 g = 1,15 €)   200   gram  ...   \n",
       "3  931b38b6833c084c898fd9455d45e0e3   500g (1 kg = 4,58 €)   500   gram  ...   \n",
       "4  4de29bdc7f42991b6547c777d437c304               28 Stück    28    NaN  ...   \n",
       "\n",
       "  reduction                                            product Coicop5_Final  \\\n",
       "0     FALSE  https://shop.rewe.de/p/viba-fruchtschnitte-ban...         01117   \n",
       "1     FALSE  https://shop.rewe.de/p/salice-salentino-riserv...         02121   \n",
       "2     FALSE  https://shop.rewe.de/p/kaiserschoten-200g-scha...         01171   \n",
       "3     FALSE  https://shop.rewe.de/p/rewe-bio-karotten-walnu...         01113   \n",
       "4     FALSE  https://shop.rewe.de/p/l-m-blue-label-xxl-28-s...         02201   \n",
       "\n",
       "  Coicop4_Final Coicop3_Final Coicop2_Final Predicted_COICOP_5_Category  \\\n",
       "0          0111           011            01                       01117   \n",
       "1          0212           021            02                       02121   \n",
       "2          0117           011            01                       01171   \n",
       "3          0111           011            01                       01113   \n",
       "4          0220           022            02                       02201   \n",
       "\n",
       "  Predicted_COICOP_4_Category Predicted_COICOP_3_Category  \\\n",
       "0                        0111                         011   \n",
       "1                        0212                         021   \n",
       "2                        0117                         011   \n",
       "3                        0111                         011   \n",
       "4                        0220                         022   \n",
       "\n",
       "  Predicted_COICOP_2_Category  \n",
       "0                          01  \n",
       "1                          02  \n",
       "2                          01  \n",
       "3                          01  \n",
       "4                          02  \n",
       "\n",
       "[5 rows x 23 columns]"
      ]
     },
     "execution_count": 12,
     "metadata": {},
     "output_type": "execute_result"
    }
   ],
   "source": [
    "df.head()"
   ]
  },
  {
   "cell_type": "markdown",
   "metadata": {
    "ExecuteTime": {
     "end_time": "2019-09-11T22:22:16.936386Z",
     "start_time": "2019-09-11T22:22:16.867237Z"
    }
   },
   "source": [
    "# COLLECT PERFORMANCE STATS"
   ]
  },
  {
   "cell_type": "code",
   "execution_count": 13,
   "metadata": {
    "ExecuteTime": {
     "end_time": "2019-09-11T22:25:11.140239Z",
     "start_time": "2019-09-11T22:25:11.058527Z"
    }
   },
   "outputs": [],
   "source": [
    "confusion_matrices = {actual: ConfusionMatrix(actual_vector=df[actual].values,\n",
    "                                              predict_vector=df[predicted].values)\n",
    "                      for predicted, actual in predicted_target_pairs}"
   ]
  },
  {
   "cell_type": "markdown",
   "metadata": {
    "ExecuteTime": {
     "end_time": "2019-09-11T22:22:17.451713Z",
     "start_time": "2019-09-11T22:22:17.448570Z"
    }
   },
   "source": [
    "# CALCULATE SCORES"
   ]
  },
  {
   "cell_type": "code",
   "execution_count": 14,
   "metadata": {
    "ExecuteTime": {
     "end_time": "2019-09-11T22:25:11.291609Z",
     "start_time": "2019-09-11T22:25:11.215742Z"
    }
   },
   "outputs": [
    {
     "name": "stdout",
     "output_type": "stream",
     "text": [
      "[0.16013344453711426, 0.8398665554628858]\n",
      "[0.01630019378055986, 0.05433397926853287, 0.0900800182609887, 0.040271066987265534, 0.15559275881443502, 0.07283065306207596, 0.038033785487973, 0.030562863338549736, 0.02516941686704096, 0.03761583180129198, 0.030292395521394427, 0.08348879741262367, 0.032913852826130484, 0.15559275881443502, 0.13692162775670283]\n",
      "[0.023886496484236974, 0.094023807239423, 0.11485542920264845, 0.7672342670736917]\n",
      "[0.0038034194644536536, 0.006569542711329038, 0.008029441091624378, 0.0013139085422658077, 0.012044161637436568, 0.0013382401819373964, 0.0021254402889593947, 0.003284771355664519, 0.008029441091624378, 0.0072264969824619414, 0.07226496982461941, 0.010323567117802773, 0.07226496982461941, 0.002408832327487314, 0.014452993964923883, 0.07226496982461941, 0.014452993964923883, 0.009033121228077427, 0.003011040409359142, 0.010323567117802773, 0.024088323274873136, 0.014452993964923883, 0.0034411890392675912, 0.004516560614038713, 0.0027794219163315157, 0.010323567117802773, 0.018066242456154853, 0.036132484912309706, 0.012044161637436568, 0.0072264969824619414, 0.005161783558901387, 0.036132484912309706, 0.004817664654974628, 0.004516560614038713, 0.002491895511193773, 0.009033121228077427, 0.0020647134235605544, 0.005161783558901387, 0.018066242456154853, 0.008029441091624378, 0.0027794219163315157, 0.002491895511193773, 0.0031419552097660614, 0.004014720545812189, 0.010323567117802773, 0.0014169601926395962, 0.0028905987929847767, 0.004516560614038713, 0.006569542711329038, 0.0021898475704430127, 0.0022582803070193566, 0.0013139085422658077, 0.018066242456154853, 0.0019017097322268268, 0.0021254402889593947, 0.0017625602396248638, 0.0018529479442210106, 0.036132484912309706, 0.0007373976512716267, 0.018066242456154853, 0.07226496982461941, 0.07226496982461941, 0.008029441091624378, 0.036132484912309706, 0.009033121228077427, 0.024088323274873136, 0.0038034194644536536, 0.07226496982461941, 0.014452993964923883]\n",
      "The final score is 0.6287235601842958\n"
     ]
    }
   ],
   "source": [
    "score_levels = {level: calc_score_for_level(cm, balance=True) for  level, cm in confusion_matrices.items()}\n",
    "final_score = sum([level_weights[level] * value for level, value in score_levels.items()])\n",
    "print(\"The final score is {final_score}\".format(final_score=final_score))"
   ]
  },
  {
   "cell_type": "code",
   "execution_count": null,
   "metadata": {},
   "outputs": [],
   "source": []
  }
 ],
 "metadata": {
  "kernelspec": {
   "display_name": "Python 3",
   "language": "python",
   "name": "python3"
  },
  "language_info": {
   "codemirror_mode": {
    "name": "ipython",
    "version": 3
   },
   "file_extension": ".py",
   "mimetype": "text/x-python",
   "name": "python",
   "nbconvert_exporter": "python",
   "pygments_lexer": "ipython3",
   "version": "3.5.3"
  },
  "nbTranslate": {
   "displayLangs": [
    "*"
   ],
   "hotkey": "alt-t",
   "langInMainMenu": true,
   "sourceLang": "en",
   "targetLang": "fr",
   "useGoogleTranslate": true
  },
  "toc": {
   "base_numbering": 1,
   "nav_menu": {},
   "number_sections": true,
   "sideBar": true,
   "skip_h1_title": false,
   "title_cell": "Table of Contents",
   "title_sidebar": "Contents",
   "toc_cell": false,
   "toc_position": {},
   "toc_section_display": true,
   "toc_window_display": false
  },
  "varInspector": {
   "cols": {
    "lenName": 16,
    "lenType": 16,
    "lenVar": 40
   },
   "kernels_config": {
    "python": {
     "delete_cmd_postfix": "",
     "delete_cmd_prefix": "del ",
     "library": "var_list.py",
     "varRefreshCmd": "print(var_dic_list())"
    },
    "r": {
     "delete_cmd_postfix": ") ",
     "delete_cmd_prefix": "rm(",
     "library": "var_list.r",
     "varRefreshCmd": "cat(var_dic_list()) "
    }
   },
   "types_to_exclude": [
    "module",
    "function",
    "builtin_function_or_method",
    "instance",
    "_Feature"
   ],
   "window_display": false
  }
 },
 "nbformat": 4,
 "nbformat_minor": 4
}
