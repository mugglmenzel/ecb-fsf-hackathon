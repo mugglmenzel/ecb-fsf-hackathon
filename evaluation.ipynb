{
 "cells": [
  {
   "cell_type": "markdown",
   "metadata": {},
   "source": [
    "# IMPORTS AND CONSTANTS"
   ]
  },
  {
   "cell_type": "code",
   "execution_count": 13,
   "metadata": {
    "ExecuteTime": {
     "end_time": "2019-09-11T22:24:57.937557Z",
     "start_time": "2019-09-11T22:24:57.917671Z"
    },
    "code_folding": [],
    "run_control": {
     "marked": true
    }
   },
   "outputs": [],
   "source": [
    "import pandas as pd\n",
    "import numpy as np\n",
    "from sklearn.preprocessing import MinMaxScaler as Scaler\n",
    "from functools import partial\n",
    "from pycm import ConfusionMatrix\n",
    "\n",
    "dataset_filepath = \"gs://ecb-fsf-hackathon-base-data/webscrap_train.csv\"\n",
    "index_header = 'url'\n",
    "non_empty_columns = (\"Predicted_COICOP_5_Category\", \"Predicted_COICOP_4_Category\", \"Predicted_COICOP_3_Category\", \"Predicted_COICOP_2_Category\",\n",
    "                     \"Coicop5_Final\", \"Coicop4_Final\", \"Coicop3_Final\", \"Coicop2_Final\")\n",
    "\n",
    "predicted_target_pairs = [('Predicted_COICOP_5_Category', 'Coicop5_Final'),\n",
    "                          ('Predicted_COICOP_4_Category', 'Coicop4_Final'),\n",
    "                          ('Predicted_COICOP_3_Category', 'Coicop3_Final'),\n",
    "                          ('Predicted_COICOP_2_Category', 'Coicop2_Final'),\n",
    "                         ]\n",
    "level_weights = {'Coicop2_Final': 0.05,\n",
    "                 'Coicop3_Final': 0.15,\n",
    "                 'Coicop4_Final': 0.4,\n",
    "                 'Coicop5_Final': 0.4}\n"
   ]
  },
  {
   "cell_type": "markdown",
   "metadata": {
    "ExecuteTime": {
     "end_time": "2019-09-11T22:22:02.262383Z",
     "start_time": "2019-09-11T22:22:02.253963Z"
    },
    "code_folding": [],
    "run_control": {
     "marked": false
    }
   },
   "source": [
    "# FUNCTION DEFINITIONS"
   ]
  },
  {
   "cell_type": "code",
   "execution_count": 14,
   "metadata": {
    "ExecuteTime": {
     "end_time": "2019-09-11T22:24:58.802710Z",
     "start_time": "2019-09-11T22:24:58.784925Z"
    },
    "code_folding": [],
    "run_control": {
     "marked": false
    }
   },
   "outputs": [],
   "source": [
    "def clean_empty_cells(df: pd.DataFrame) -> pd.DataFrame:\n",
    "    \"\"\"Replace all empty cells with pd.np.nan\"\"\"\n",
    "    return df.applymap(lambda x: pd.np.nan if isinstance(x, str)\n",
    "                       and x.lower().strip() in ['nan', ''] else x)\n",
    "\n",
    "def drop_duplicate_rows(df: pd.DataFrame, index) -> pd.DataFrame:\n",
    "    \"\"\"Drop duplicate rows by index\"\"\"\n",
    "    return df.drop_duplicates(subset=index)\n",
    "\n",
    "def drop_empty_rows(df: pd.DataFrame,\n",
    "                  required_rows: tuple=()) -> pd.DataFrame:\n",
    "    \"\"\"Remove row without the required data points\"\"\" \n",
    "    df = df.dropna(subset=non_empty_columns, how='any')\n",
    "    return df\n",
    "\n",
    "def calc_score_for_level(confusion_matrix: ConfusionMatrix,\n",
    "                         balance: bool) -> float:\n",
    "    \"\"\"Unified metric for a single level multiclass classifier\n",
    "    \n",
    "    :param balance: If True, f1 score is normalized by class frequency\n",
    "    \"\"\"\n",
    "    n_classes = confusion_matrix.classes.__len__()\n",
    "    scores = []\n",
    "    if not balance:\n",
    "        score = confusion_matrix.F1_Macro\n",
    "    else:\n",
    "        for cls in confusion_matrix.classes:\n",
    "            population = confusion_matrix.POP[cls]\n",
    "            score = confusion_matrix.F1[cls]\n",
    "            if balance:\n",
    "                cls_count = confusion_matrix.P[cls]\n",
    "                if cls_count == 0:\n",
    "                    score = 0.\n",
    "                else:\n",
    "                    balance_ratio = population / (n_classes * cls_count)\n",
    "                    score *= balance_ratio\n",
    "            scores.append(score)\n",
    "        scores = np.expand_dims(np.array(scores), 1)\n",
    "        scores = Scaler().fit_transform(scores)\n",
    "        score = scores.ravel().mean()\n",
    "    return score"
   ]
  },
  {
   "cell_type": "markdown",
   "metadata": {
    "ExecuteTime": {
     "end_time": "2019-09-11T22:22:15.157294Z",
     "start_time": "2019-09-11T22:22:05.024953Z"
    },
    "code_folding": []
   },
   "source": [
    "# READ THE DATASET"
   ]
  },
  {
   "cell_type": "code",
   "execution_count": 15,
   "metadata": {
    "ExecuteTime": {
     "end_time": "2019-09-11T22:25:10.280352Z",
     "start_time": "2019-09-11T22:24:59.745167Z"
    },
    "code_folding": []
   },
   "outputs": [
    {
     "data": {
      "text/html": [
       "<div>\n",
       "<style scoped>\n",
       "    .dataframe tbody tr th:only-of-type {\n",
       "        vertical-align: middle;\n",
       "    }\n",
       "\n",
       "    .dataframe tbody tr th {\n",
       "        vertical-align: top;\n",
       "    }\n",
       "\n",
       "    .dataframe thead th {\n",
       "        text-align: right;\n",
       "    }\n",
       "</style>\n",
       "<table border=\"1\" class=\"dataframe\">\n",
       "  <thead>\n",
       "    <tr style=\"text-align: right;\">\n",
       "      <th></th>\n",
       "      <th>Unnamed: 0</th>\n",
       "      <th>category</th>\n",
       "      <th>url</th>\n",
       "      <th>product_name</th>\n",
       "      <th>product_description</th>\n",
       "      <th>product_id_store</th>\n",
       "      <th>product_id</th>\n",
       "      <th>volume</th>\n",
       "      <th>qty</th>\n",
       "      <th>unit</th>\n",
       "      <th>...</th>\n",
       "      <th>reduction</th>\n",
       "      <th>product</th>\n",
       "      <th>Coicop5_Final</th>\n",
       "      <th>Coicop4_Final</th>\n",
       "      <th>Coicop3_Final</th>\n",
       "      <th>Coicop2_Final</th>\n",
       "      <th>Predicted_COICOP_5_Category</th>\n",
       "      <th>Predicted_COICOP_4_Category</th>\n",
       "      <th>Predicted_COICOP_3_Category</th>\n",
       "      <th>Predicted_COICOP_2_Category</th>\n",
       "    </tr>\n",
       "  </thead>\n",
       "  <tbody>\n",
       "    <tr>\n",
       "      <th>0</th>\n",
       "      <td>24345</td>\n",
       "      <td>Kaffee, Tee &amp; Kakao Tee Kräuter- &amp; Früchtetee ...</td>\n",
       "      <td>https://shop.rewe.de/p/kraeutertee-vitaknall/K...</td>\n",
       "      <td>Kräutertee Vitaknall</td>\n",
       "      <td>Dieser leckere Kräuter-Tee mit Fliederbeer-Man...</td>\n",
       "      <td>p/kraeutertee-vitaknall/K4M1SSOL</td>\n",
       "      <td>742c290660c87a47fd35930ef9a7b47f</td>\n",
       "      <td>250 G (100 G = 3 €)</td>\n",
       "      <td>250</td>\n",
       "      <td>gram</td>\n",
       "      <td>...</td>\n",
       "      <td>False</td>\n",
       "      <td>https://shop.rewe.de/p/kraeutertee-vitaknall/K...</td>\n",
       "      <td>01212</td>\n",
       "      <td>0121</td>\n",
       "      <td>012</td>\n",
       "      <td>01</td>\n",
       "      <td>NaN</td>\n",
       "      <td>NaN</td>\n",
       "      <td>NaN</td>\n",
       "      <td>NaN</td>\n",
       "    </tr>\n",
       "    <tr>\n",
       "      <th>1</th>\n",
       "      <td>21651</td>\n",
       "      <td>Lebensmittel Wurst-/Fleischwaren</td>\n",
       "      <td>https://www.edeka24.de/Lebensmittel/Wurst-Flei...</td>\n",
       "      <td>Meica Ragout Fin</td>\n",
       "      <td>Zubereitet mit zartem Geflügel- und Kalbfleisc...</td>\n",
       "      <td>04693f48ee73812a14551941626657e8</td>\n",
       "      <td>55464b6d5ce42feceb8fccee9e84dec4</td>\n",
       "      <td>Inhalt: 400 g</td>\n",
       "      <td>400</td>\n",
       "      <td>gram</td>\n",
       "      <td>...</td>\n",
       "      <td>False</td>\n",
       "      <td>https://www.edeka24.de/Lebensmittel/Wurst-Flei...</td>\n",
       "      <td>01128</td>\n",
       "      <td>0112</td>\n",
       "      <td>011</td>\n",
       "      <td>01</td>\n",
       "      <td>NaN</td>\n",
       "      <td>NaN</td>\n",
       "      <td>NaN</td>\n",
       "      <td>NaN</td>\n",
       "    </tr>\n",
       "  </tbody>\n",
       "</table>\n",
       "<p>2 rows × 23 columns</p>\n",
       "</div>"
      ],
      "text/plain": [
       "  Unnamed: 0                                           category  \\\n",
       "0      24345  Kaffee, Tee & Kakao Tee Kräuter- & Früchtetee ...   \n",
       "1      21651                   Lebensmittel Wurst-/Fleischwaren   \n",
       "\n",
       "                                                 url          product_name  \\\n",
       "0  https://shop.rewe.de/p/kraeutertee-vitaknall/K...  Kräutertee Vitaknall   \n",
       "1  https://www.edeka24.de/Lebensmittel/Wurst-Flei...      Meica Ragout Fin   \n",
       "\n",
       "                                 product_description  \\\n",
       "0  Dieser leckere Kräuter-Tee mit Fliederbeer-Man...   \n",
       "1  Zubereitet mit zartem Geflügel- und Kalbfleisc...   \n",
       "\n",
       "                   product_id_store                        product_id  \\\n",
       "0  p/kraeutertee-vitaknall/K4M1SSOL  742c290660c87a47fd35930ef9a7b47f   \n",
       "1  04693f48ee73812a14551941626657e8  55464b6d5ce42feceb8fccee9e84dec4   \n",
       "\n",
       "                volume  qty  unit  ... reduction  \\\n",
       "0  250 G (100 G = 3 €)  250  gram  ...     False   \n",
       "1        Inhalt: 400 g  400  gram  ...     False   \n",
       "\n",
       "                                             product Coicop5_Final  \\\n",
       "0  https://shop.rewe.de/p/kraeutertee-vitaknall/K...         01212   \n",
       "1  https://www.edeka24.de/Lebensmittel/Wurst-Flei...         01128   \n",
       "\n",
       "  Coicop4_Final Coicop3_Final Coicop2_Final Predicted_COICOP_5_Category  \\\n",
       "0          0121           012            01                         NaN   \n",
       "1          0112           011            01                         NaN   \n",
       "\n",
       "  Predicted_COICOP_4_Category Predicted_COICOP_3_Category  \\\n",
       "0                         NaN                         NaN   \n",
       "1                         NaN                         NaN   \n",
       "\n",
       "  Predicted_COICOP_2_Category  \n",
       "0                         NaN  \n",
       "1                         NaN  \n",
       "\n",
       "[2 rows x 23 columns]"
      ]
     },
     "execution_count": 15,
     "metadata": {},
     "output_type": "execute_result"
    }
   ],
   "source": [
    "dataset_cleaned_up = False\n",
    "df = pd.read_csv(dataset_filepath, dtype=str)\n",
    "df.head(2)"
   ]
  },
  {
   "cell_type": "markdown",
   "metadata": {
    "ExecuteTime": {
     "end_time": "2019-09-11T22:22:16.344528Z",
     "start_time": "2019-09-11T22:22:15.787379Z"
    }
   },
   "source": [
    "# CLEANUP DATASET"
   ]
  },
  {
   "cell_type": "code",
   "execution_count": 16,
   "metadata": {
    "ExecuteTime": {
     "end_time": "2019-09-11T22:25:10.979956Z",
     "start_time": "2019-09-11T22:25:10.369248Z"
    }
   },
   "outputs": [],
   "source": [
    "if not dataset_cleaned_up:\n",
    "    cleanup_pipeline = [clean_empty_cells,\n",
    "                        partial(drop_duplicate_rows, index=index_header),\n",
    "                        partial(drop_empty_rows, required_rows=non_empty_columns)]\n",
    "    for op in cleanup_pipeline:\n",
    "        df = op(df)\n",
    "    dataset_cleaned_up = True"
   ]
  },
  {
   "cell_type": "markdown",
   "metadata": {
    "ExecuteTime": {
     "end_time": "2019-09-11T22:22:16.936386Z",
     "start_time": "2019-09-11T22:22:16.867237Z"
    }
   },
   "source": [
    "# COLLECT PERFORMANCE STATS"
   ]
  },
  {
   "cell_type": "code",
   "execution_count": 17,
   "metadata": {
    "ExecuteTime": {
     "end_time": "2019-09-11T22:25:11.140239Z",
     "start_time": "2019-09-11T22:25:11.058527Z"
    }
   },
   "outputs": [
    {
     "ename": "pycmVectorError",
     "evalue": "Input vectors are empty",
     "output_type": "error",
     "traceback": [
      "\u001b[0;31m---------------------------------------------------------------------------\u001b[0m",
      "\u001b[0;31mpycmVectorError\u001b[0m                           Traceback (most recent call last)",
      "\u001b[0;32m<ipython-input-17-956b9896e3df>\u001b[0m in \u001b[0;36m<module>\u001b[0;34m\u001b[0m\n\u001b[1;32m      1\u001b[0m confusion_matrices = {actual: ConfusionMatrix(actual_vector=df[actual].values,\n\u001b[1;32m      2\u001b[0m                                               predict_vector=df[predicted].values)\n\u001b[0;32m----> 3\u001b[0;31m                       for predicted, actual in predicted_target_pairs}\n\u001b[0m",
      "\u001b[0;32m<ipython-input-17-956b9896e3df>\u001b[0m in \u001b[0;36m<dictcomp>\u001b[0;34m(.0)\u001b[0m\n\u001b[1;32m      1\u001b[0m confusion_matrices = {actual: ConfusionMatrix(actual_vector=df[actual].values,\n\u001b[1;32m      2\u001b[0m                                               predict_vector=df[predicted].values)\n\u001b[0;32m----> 3\u001b[0;31m                       for predicted, actual in predicted_target_pairs}\n\u001b[0m",
      "\u001b[0;32m~/.local/lib/python3.5/site-packages/pycm/pycm_obj.py\u001b[0m in \u001b[0;36m__init__\u001b[0;34m(self, actual_vector, predict_vector, matrix, digit, threshold, file, sample_weight, transpose)\u001b[0m\n\u001b[1;32m     84\u001b[0m         \u001b[0;32melse\u001b[0m\u001b[0;34m:\u001b[0m\u001b[0;34m\u001b[0m\u001b[0m\n\u001b[1;32m     85\u001b[0m             matrix_param = __obj_vector_handler__(\n\u001b[0;32m---> 86\u001b[0;31m                 self, actual_vector, predict_vector, threshold, sample_weight)\n\u001b[0m\u001b[1;32m     87\u001b[0m         \u001b[0;32mif\u001b[0m \u001b[0mlen\u001b[0m\u001b[0;34m(\u001b[0m\u001b[0mmatrix_param\u001b[0m\u001b[0;34m[\u001b[0m\u001b[0;36m0\u001b[0m\u001b[0;34m]\u001b[0m\u001b[0;34m)\u001b[0m \u001b[0;34m<\u001b[0m \u001b[0;36m2\u001b[0m\u001b[0;34m:\u001b[0m\u001b[0;34m\u001b[0m\u001b[0m\n\u001b[1;32m     88\u001b[0m             \u001b[0;32mraise\u001b[0m \u001b[0mpycmVectorError\u001b[0m\u001b[0;34m(\u001b[0m\u001b[0mCLASS_NUMBER_ERROR\u001b[0m\u001b[0;34m)\u001b[0m\u001b[0;34m\u001b[0m\u001b[0m\n",
      "\u001b[0;32m~/.local/lib/python3.5/site-packages/pycm/pycm_obj.py\u001b[0m in \u001b[0;36m__obj_vector_handler__\u001b[0;34m(cm, actual_vector, predict_vector, threshold, sample_weight)\u001b[0m\n\u001b[1;32m    831\u001b[0m         \u001b[0;32mraise\u001b[0m \u001b[0mpycmVectorError\u001b[0m\u001b[0;34m(\u001b[0m\u001b[0mVECTOR_SIZE_ERROR\u001b[0m\u001b[0;34m)\u001b[0m\u001b[0;34m\u001b[0m\u001b[0m\n\u001b[1;32m    832\u001b[0m     \u001b[0;32mif\u001b[0m \u001b[0mlen\u001b[0m\u001b[0;34m(\u001b[0m\u001b[0mactual_vector\u001b[0m\u001b[0;34m)\u001b[0m \u001b[0;34m==\u001b[0m \u001b[0;36m0\u001b[0m \u001b[0;32mor\u001b[0m \u001b[0mlen\u001b[0m\u001b[0;34m(\u001b[0m\u001b[0mpredict_vector\u001b[0m\u001b[0;34m)\u001b[0m \u001b[0;34m==\u001b[0m \u001b[0;36m0\u001b[0m\u001b[0;34m:\u001b[0m\u001b[0;34m\u001b[0m\u001b[0m\n\u001b[0;32m--> 833\u001b[0;31m         \u001b[0;32mraise\u001b[0m \u001b[0mpycmVectorError\u001b[0m\u001b[0;34m(\u001b[0m\u001b[0mVECTOR_EMPTY_ERROR\u001b[0m\u001b[0;34m)\u001b[0m\u001b[0;34m\u001b[0m\u001b[0m\n\u001b[0m\u001b[1;32m    834\u001b[0m     [actual_vector, predict_vector] = vector_filter(\n\u001b[1;32m    835\u001b[0m         actual_vector, predict_vector)\n",
      "\u001b[0;31mpycmVectorError\u001b[0m: Input vectors are empty"
     ]
    }
   ],
   "source": [
    "confusion_matrices = {actual: ConfusionMatrix(actual_vector=df[actual].values,\n",
    "                                              predict_vector=df[predicted].values)\n",
    "                      for predicted, actual in predicted_target_pairs}"
   ]
  },
  {
   "cell_type": "markdown",
   "metadata": {
    "ExecuteTime": {
     "end_time": "2019-09-11T22:22:17.451713Z",
     "start_time": "2019-09-11T22:22:17.448570Z"
    }
   },
   "source": [
    "# CALCULATE SCORES"
   ]
  },
  {
   "cell_type": "code",
   "execution_count": 18,
   "metadata": {
    "ExecuteTime": {
     "end_time": "2019-09-11T22:25:11.291609Z",
     "start_time": "2019-09-11T22:25:11.215742Z"
    }
   },
   "outputs": [
    {
     "ename": "NameError",
     "evalue": "name 'confusion_matrices' is not defined",
     "output_type": "error",
     "traceback": [
      "\u001b[0;31m---------------------------------------------------------------------------\u001b[0m",
      "\u001b[0;31mNameError\u001b[0m                                 Traceback (most recent call last)",
      "\u001b[0;32m<ipython-input-18-23478c59e865>\u001b[0m in \u001b[0;36m<module>\u001b[0;34m\u001b[0m\n\u001b[0;32m----> 1\u001b[0;31m \u001b[0mscore_levels\u001b[0m \u001b[0;34m=\u001b[0m \u001b[0;34m{\u001b[0m\u001b[0mlevel\u001b[0m\u001b[0;34m:\u001b[0m \u001b[0mcalc_score_for_level\u001b[0m\u001b[0;34m(\u001b[0m\u001b[0mcm\u001b[0m\u001b[0;34m,\u001b[0m \u001b[0mbalance\u001b[0m\u001b[0;34m=\u001b[0m\u001b[0;32mTrue\u001b[0m\u001b[0;34m)\u001b[0m \u001b[0;32mfor\u001b[0m  \u001b[0mlevel\u001b[0m\u001b[0;34m,\u001b[0m \u001b[0mcm\u001b[0m \u001b[0;32min\u001b[0m \u001b[0mconfusion_matrices\u001b[0m\u001b[0;34m.\u001b[0m\u001b[0mitems\u001b[0m\u001b[0;34m(\u001b[0m\u001b[0;34m)\u001b[0m\u001b[0;34m}\u001b[0m\u001b[0;34m\u001b[0m\u001b[0m\n\u001b[0m\u001b[1;32m      2\u001b[0m \u001b[0mfinal_score\u001b[0m \u001b[0;34m=\u001b[0m \u001b[0msum\u001b[0m\u001b[0;34m(\u001b[0m\u001b[0;34m[\u001b[0m\u001b[0mlevel_weights\u001b[0m\u001b[0;34m[\u001b[0m\u001b[0mlevel\u001b[0m\u001b[0;34m]\u001b[0m \u001b[0;34m*\u001b[0m \u001b[0mvalue\u001b[0m \u001b[0;32mfor\u001b[0m \u001b[0mlevel\u001b[0m\u001b[0;34m,\u001b[0m \u001b[0mvalue\u001b[0m \u001b[0;32min\u001b[0m \u001b[0mscore_levels\u001b[0m\u001b[0;34m.\u001b[0m\u001b[0mitems\u001b[0m\u001b[0;34m(\u001b[0m\u001b[0;34m)\u001b[0m\u001b[0;34m]\u001b[0m\u001b[0;34m)\u001b[0m\u001b[0;34m\u001b[0m\u001b[0m\n\u001b[1;32m      3\u001b[0m \u001b[0mprint\u001b[0m\u001b[0;34m(\u001b[0m\u001b[0;34m\"The final score is {final_score}\"\u001b[0m\u001b[0;34m.\u001b[0m\u001b[0mformat\u001b[0m\u001b[0;34m(\u001b[0m\u001b[0mfinal_score\u001b[0m\u001b[0;34m=\u001b[0m\u001b[0mfinal_score\u001b[0m\u001b[0;34m)\u001b[0m\u001b[0;34m)\u001b[0m\u001b[0;34m\u001b[0m\u001b[0m\n",
      "\u001b[0;31mNameError\u001b[0m: name 'confusion_matrices' is not defined"
     ]
    }
   ],
   "source": [
    "score_levels = {level: calc_score_for_level(cm, balance=True) for  level, cm in confusion_matrices.items()}\n",
    "final_score = sum([level_weights[level] * value for level, value in score_levels.items()])\n",
    "print(\"The final score is {final_score}\".format(final_score=final_score))"
   ]
  },
  {
   "cell_type": "code",
   "execution_count": null,
   "metadata": {},
   "outputs": [],
   "source": []
  }
 ],
 "metadata": {
  "kernelspec": {
   "display_name": "Python 3",
   "language": "python",
   "name": "python3"
  },
  "language_info": {
   "codemirror_mode": {
    "name": "ipython",
    "version": 3
   },
   "file_extension": ".py",
   "mimetype": "text/x-python",
   "name": "python",
   "nbconvert_exporter": "python",
   "pygments_lexer": "ipython3",
   "version": "3.5.3"
  },
  "nbTranslate": {
   "displayLangs": [
    "*"
   ],
   "hotkey": "alt-t",
   "langInMainMenu": true,
   "sourceLang": "en",
   "targetLang": "fr",
   "useGoogleTranslate": true
  },
  "toc": {
   "base_numbering": 1,
   "nav_menu": {},
   "number_sections": true,
   "sideBar": true,
   "skip_h1_title": false,
   "title_cell": "Table of Contents",
   "title_sidebar": "Contents",
   "toc_cell": false,
   "toc_position": {},
   "toc_section_display": true,
   "toc_window_display": false
  },
  "varInspector": {
   "cols": {
    "lenName": 16,
    "lenType": 16,
    "lenVar": 40
   },
   "kernels_config": {
    "python": {
     "delete_cmd_postfix": "",
     "delete_cmd_prefix": "del ",
     "library": "var_list.py",
     "varRefreshCmd": "print(var_dic_list())"
    },
    "r": {
     "delete_cmd_postfix": ") ",
     "delete_cmd_prefix": "rm(",
     "library": "var_list.r",
     "varRefreshCmd": "cat(var_dic_list()) "
    }
   },
   "types_to_exclude": [
    "module",
    "function",
    "builtin_function_or_method",
    "instance",
    "_Feature"
   ],
   "window_display": false
  }
 },
 "nbformat": 4,
 "nbformat_minor": 4
}
